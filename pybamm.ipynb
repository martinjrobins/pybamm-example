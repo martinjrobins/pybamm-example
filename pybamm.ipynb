{
 "cells": [
  {
   "cell_type": "markdown",
   "metadata": {},
   "source": [
    "\n",
    "# PyBaMM: A High-Level Overview\n",
    "\n",
    "PyBaMM (Python Battery Mathematical Modelling) is an open-source battery simulation package written in Python. Our mission is to accelerate battery modelling research by providing open-source tools for multi-institutional, interdisciplinary collaboration. Broadly, PyBaMM consists of\n",
    "\n",
    "- a framework for writing and solving systems of differential equations,\n",
    "- a library of battery models and parameters, and\n",
    "- specialized tools for simulating battery-specific experiments and visualizing the results.\n",
    "\n",
    "Together, these enable flexible model definitions and fast battery simulations, allowing users to explore the effect of different battery designs and modeling assumptions under a variety of operating scenarios."
   ]
  },
  {
   "cell_type": "code",
   "execution_count": 4,
   "metadata": {},
   "outputs": [],
   "source": [
    "import pybamm"
   ]
  },
  {
   "cell_type": "markdown",
   "metadata": {},
   "source": [
    "# Solving Battery models\n",
    "\n",
    "PyBamm has three different base models:\n",
    "- Single Particle Model (SPM)\n",
    "- Single Particle Model with Electrolyte (SPMe)\n",
    "- Doyle-Fuller-Newman (DFN) model\n",
    "\n",
    "Simulating from any of these models is straightforward in Python. As a very first example, we will run the Doyle-Fuller-Newman (DFN) model with all the basic settings "
   ]
  },
  {
   "cell_type": "code",
   "execution_count": 5,
   "metadata": {},
   "outputs": [],
   "source": [
    "model = pybamm.lithium_ion.DFN()"
   ]
  },
  {
   "cell_type": "markdown",
   "metadata": {},
   "source": [
    "The next step is to create a pybamm.Simulation to process the model and make it ready to be solved:"
   ]
  },
  {
   "cell_type": "code",
   "execution_count": 6,
   "metadata": {},
   "outputs": [],
   "source": [
    "simulation = pybamm.Simulation(model)"
   ]
  },
  {
   "cell_type": "markdown",
   "metadata": {},
   "source": [
    "The simulation can be solved by calling the `solve` method in the simulation object. The method takes an argument which should be the time interval to solve for in seconds (here we do 1 hour, as the default setup is a 1C discharge):"
   ]
  },
  {
   "cell_type": "code",
   "execution_count": 7,
   "metadata": {},
   "outputs": [
    {
     "data": {
      "text/plain": [
       "<pybamm.solvers.solution.Solution at 0x2b1d0b68df0>"
      ]
     },
     "execution_count": 7,
     "metadata": {},
     "output_type": "execute_result"
    }
   ],
   "source": [
    "simulation.solve([0, 3600])"
   ]
  },
  {
   "cell_type": "markdown",
   "metadata": {},
   "source": [
    "Now that the simulation has been solved, we can simply call the `plot` method to generate an interactive plot of the key variables:\n"
   ]
  },
  {
   "cell_type": "code",
   "execution_count": 8,
   "metadata": {},
   "outputs": [
    {
     "data": {
      "application/vnd.jupyter.widget-view+json": {
       "model_id": "8177cb19d3c54b5a9cdb495efe1a6adc",
       "version_major": 2,
       "version_minor": 0
      },
      "text/plain": [
       "interactive(children=(FloatSlider(value=0.0, description='t', max=1.0, step=0.01), Output()), _dom_classes=('w…"
      ]
     },
     "metadata": {},
     "output_type": "display_data"
    },
    {
     "data": {
      "text/plain": [
       "<pybamm.plotting.quick_plot.QuickPlot at 0x2b1991e4dc0>"
      ]
     },
     "execution_count": 8,
     "metadata": {},
     "output_type": "execute_result"
    }
   ],
   "source": [
    "simulation.plot()"
   ]
  },
  {
   "cell_type": "markdown",
   "metadata": {},
   "source": [
    "# Comparing Models\n",
    "\n",
    "We have seen how to run a simulation of the DFN model, but PyBaMM includes many other standard electrochemical models and makes comparing their outputs very easy. Let’s now compare the DFN model with the Single Particle Model (SPM) and the Single Particle Model with electrolyte (SPMe). We can leverage the functionality of Python lists to do so."
   ]
  },
  {
   "cell_type": "code",
   "execution_count": 9,
   "metadata": {},
   "outputs": [
    {
     "data": {
      "application/vnd.jupyter.widget-view+json": {
       "model_id": "3557dc1792b94d2e8c11cfe182a0845d",
       "version_major": 2,
       "version_minor": 0
      },
      "text/plain": [
       "interactive(children=(FloatSlider(value=0.0, description='t', max=1.0, step=0.01), Output()), _dom_classes=('w…"
      ]
     },
     "metadata": {},
     "output_type": "display_data"
    },
    {
     "data": {
      "text/plain": [
       "<pybamm.plotting.quick_plot.QuickPlot at 0x2b1caff9df0>"
      ]
     },
     "execution_count": 9,
     "metadata": {},
     "output_type": "execute_result"
    }
   ],
   "source": [
    "models = [\n",
    "\tpybamm.lithium_ion.SPM(),\n",
    "\tpybamm.lithium_ion.SPMe(),\n",
    "\tpybamm.lithium_ion.DFN(),\n",
    "]\n",
    "simulations = []\n",
    "for model in models:\n",
    "\tsimulation = pybamm.Simulation(model)\n",
    "\tsimulation.solve([0, 3600])\n",
    "\tsimulations.append(simulation)\n",
    "pybamm.dynamic_plot(simulations)\n"
   ]
  },
  {
   "cell_type": "markdown",
   "metadata": {},
   "source": [
    "## Changing the parameters\n",
    "\n",
    "When running our simulations we have been using the default parameter values, which might not match the battery we want to simulate. PyBaMM has a number of in-built parameter sets (check the list [here](https://docs.pybamm.org/en/latest/source/api/parameters/parameter_sets.html)) that we can use. For example, to use the Chen et al (2020) parameter set we can use."
   ]
  },
  {
   "cell_type": "code",
   "execution_count": 10,
   "metadata": {},
   "outputs": [
    {
     "name": "stdout",
     "output_type": "stream",
     "text": [
      "{'Ambient temperature [K]': 298.15,\n",
      " 'Boltzmann constant [J.K-1]': 1.380649e-23,\n",
      " 'Bulk solvent concentration [mol.m-3]': 2636.0,\n",
      " 'Cation transference number': 0.2594,\n",
      " 'Cell cooling surface area [m2]': 0.00531,\n",
      " 'Cell thermal expansion coefficient [m.K-1]': 1.1e-06,\n",
      " 'Cell volume [m3]': 2.42e-05,\n",
      " 'Contact resistance [Ohm]': 0,\n",
      " 'Current function [A]': 5.0,\n",
      " 'EC diffusivity [m2.s-1]': 2e-18,\n",
      " 'EC initial concentration in electrolyte [mol.m-3]': 4541.0,\n",
      " 'Electrode height [m]': 0.065,\n",
      " 'Electrode width [m]': 1.58,\n",
      " 'Electrolyte conductivity [S.m-1]': <function electrolyte_conductivity_Nyman2008 at 0x000002B1D4064940>,\n",
      " 'Electrolyte diffusivity [m2.s-1]': <function electrolyte_diffusivity_Nyman2008 at 0x000002B1D40648B0>,\n",
      " 'Electron charge [C]': 1.602176634e-19,\n",
      " 'Faraday constant [C.mol-1]': 96485.33212,\n",
      " 'Ideal gas constant [J.K-1.mol-1]': 8.314462618,\n",
      " 'Initial concentration in electrolyte [mol.m-3]': 1000.0,\n",
      " 'Initial concentration in negative electrode [mol.m-3]': 29866.0,\n",
      " 'Initial concentration in positive electrode [mol.m-3]': 17038.0,\n",
      " 'Initial inner SEI thickness [m]': 2.5e-09,\n",
      " 'Initial outer SEI thickness [m]': 2.5e-09,\n",
      " 'Initial temperature [K]': 298.15,\n",
      " 'Inner SEI electron conductivity [S.m-1]': 8.95e-14,\n",
      " 'Inner SEI lithium interstitial diffusivity [m2.s-1]': 1e-20,\n",
      " 'Inner SEI open-circuit potential [V]': 0.1,\n",
      " 'Inner SEI partial molar volume [m3.mol-1]': 9.585e-05,\n",
      " 'Inner SEI reaction proportion': 0.5,\n",
      " 'Lithium interstitial reference concentration [mol.m-3]': 15.0,\n",
      " 'Lower voltage cut-off [V]': 2.5,\n",
      " 'Maximum concentration in negative electrode [mol.m-3]': 33133.0,\n",
      " 'Maximum concentration in positive electrode [mol.m-3]': 63104.0,\n",
      " 'Negative current collector conductivity [S.m-1]': 58411000.0,\n",
      " 'Negative current collector density [kg.m-3]': 8960.0,\n",
      " 'Negative current collector specific heat capacity [J.kg-1.K-1]': 385.0,\n",
      " 'Negative current collector thermal conductivity [W.m-1.K-1]': 401.0,\n",
      " 'Negative current collector thickness [m]': 1.2e-05,\n",
      " 'Negative electrode Bruggeman coefficient (electrode)': 0,\n",
      " 'Negative electrode Bruggeman coefficient (electrolyte)': 1.5,\n",
      " 'Negative electrode OCP [V]': <function graphite_LGM50_ocp_Chen2020 at 0x000002B1D4064DC0>,\n",
      " 'Negative electrode OCP entropic change [V.K-1]': 0.0,\n",
      " 'Negative electrode active material volume fraction': 0.75,\n",
      " 'Negative electrode charge transfer coefficient': 0.5,\n",
      " 'Negative electrode conductivity [S.m-1]': 215.0,\n",
      " 'Negative electrode density [kg.m-3]': 1657.0,\n",
      " 'Negative electrode diffusivity [m2.s-1]': 3.3e-14,\n",
      " 'Negative electrode double-layer capacity [F.m-2]': 0.2,\n",
      " 'Negative electrode exchange-current density [A.m-2]': <function graphite_LGM50_electrolyte_exchange_current_density_Chen2020 at 0x000002B1D4064E50>,\n",
      " 'Negative electrode porosity': 0.25,\n",
      " 'Negative electrode reaction-driven LAM factor [m3.mol-1]': 0.0,\n",
      " 'Negative electrode specific heat capacity [J.kg-1.K-1]': 700.0,\n",
      " 'Negative electrode thermal conductivity [W.m-1.K-1]': 1.7,\n",
      " 'Negative electrode thickness [m]': 8.52e-05,\n",
      " 'Negative particle radius [m]': 5.86e-06,\n",
      " 'Nominal cell capacity [A.h]': 5.0,\n",
      " 'Number of cells connected in series to make a battery': 1.0,\n",
      " 'Number of electrodes connected in parallel to make a cell': 1.0,\n",
      " 'Outer SEI open-circuit potential [V]': 0.8,\n",
      " 'Outer SEI partial molar volume [m3.mol-1]': 9.585e-05,\n",
      " 'Outer SEI solvent diffusivity [m2.s-1]': 2.5000000000000002e-22,\n",
      " 'Positive current collector conductivity [S.m-1]': 36914000.0,\n",
      " 'Positive current collector density [kg.m-3]': 2700.0,\n",
      " 'Positive current collector specific heat capacity [J.kg-1.K-1]': 897.0,\n",
      " 'Positive current collector thermal conductivity [W.m-1.K-1]': 237.0,\n",
      " 'Positive current collector thickness [m]': 1.6e-05,\n",
      " 'Positive electrode Bruggeman coefficient (electrode)': 0,\n",
      " 'Positive electrode Bruggeman coefficient (electrolyte)': 1.5,\n",
      " 'Positive electrode OCP [V]': <function nmc_LGM50_ocp_Chen2020 at 0x000002B1D4064C10>,\n",
      " 'Positive electrode OCP entropic change [V.K-1]': 0.0,\n",
      " 'Positive electrode active material volume fraction': 0.665,\n",
      " 'Positive electrode charge transfer coefficient': 0.5,\n",
      " 'Positive electrode conductivity [S.m-1]': 0.18,\n",
      " 'Positive electrode density [kg.m-3]': 3262.0,\n",
      " 'Positive electrode diffusivity [m2.s-1]': 4e-15,\n",
      " 'Positive electrode double-layer capacity [F.m-2]': 0.2,\n",
      " 'Positive electrode exchange-current density [A.m-2]': <function nmc_LGM50_electrolyte_exchange_current_density_Chen2020 at 0x000002B1D40649D0>,\n",
      " 'Positive electrode porosity': 0.335,\n",
      " 'Positive electrode reaction-driven LAM factor [m3.mol-1]': 0.0,\n",
      " 'Positive electrode specific heat capacity [J.kg-1.K-1]': 700.0,\n",
      " 'Positive electrode thermal conductivity [W.m-1.K-1]': 2.1,\n",
      " 'Positive electrode thickness [m]': 7.56e-05,\n",
      " 'Positive particle radius [m]': 5.22e-06,\n",
      " 'Ratio of lithium moles to SEI moles': 2.0,\n",
      " 'Reference temperature [K]': 298.15,\n",
      " 'SEI growth activation energy [J.mol-1]': 0.0,\n",
      " 'SEI kinetic rate constant [m.s-1]': 1e-12,\n",
      " 'SEI open-circuit potential [V]': 0.4,\n",
      " 'SEI reaction exchange current density [A.m-2]': 1.5e-07,\n",
      " 'SEI resistivity [Ohm.m]': 200000.0,\n",
      " 'Separator Bruggeman coefficient (electrolyte)': 1.5,\n",
      " 'Separator density [kg.m-3]': 397.0,\n",
      " 'Separator porosity': 0.47,\n",
      " 'Separator specific heat capacity [J.kg-1.K-1]': 700.0,\n",
      " 'Separator thermal conductivity [W.m-1.K-1]': 0.16,\n",
      " 'Separator thickness [m]': 1.2e-05,\n",
      " 'Thermodynamic factor': 1.0,\n",
      " 'Total heat transfer coefficient [W.m-2.K-1]': 10.0,\n",
      " 'Upper voltage cut-off [V]': 4.2,\n",
      " 'citations': ['Chen2020']}\n"
     ]
    }
   ],
   "source": [
    "parameter_values = pybamm.ParameterValues(\"Chen2020\")\n",
    "print(parameter_values)"
   ]
  },
  {
   "cell_type": "markdown",
   "metadata": {},
   "source": [
    "We can update the parameters of the model using this instance of `pybamm.ParameterValues`."
   ]
  },
  {
   "cell_type": "code",
   "execution_count": null,
   "metadata": {},
   "outputs": [],
   "source": [
    "parameter_values[\"Current function [A]\"] = 2.0\n",
    "sim = pybamm.Simulation(model, parameter_values=parameter_values)\n",
    "sim.solve([0, 3600])"
   ]
  },
  {
   "cell_type": "markdown",
   "metadata": {},
   "source": [
    "## Using input parameters\n",
    "\n",
    "Pybamm's parameter sets contain all the parameters needed to run a simulation, but often you want to see how the solution changes with respect to a single parameter or a small subset of parameters. You can use input parameters to create a model that can be easily and efficiently solved again for different parameter values.\n",
    "\n",
    "This is also very useful for parameter inference. Here we show an example using a parameter sweep."
   ]
  },
  {
   "cell_type": "code",
   "execution_count": 14,
   "metadata": {},
   "outputs": [
    {
     "data": {
      "application/vnd.jupyter.widget-view+json": {
       "model_id": "810c4d7622354f6090aaf7d15868af61",
       "version_major": 2,
       "version_minor": 0
      },
      "text/plain": [
       "interactive(children=(FloatSlider(value=0.0, description='t', max=1.0, step=0.01), Output()), _dom_classes=('w…"
      ]
     },
     "metadata": {},
     "output_type": "display_data"
    },
    {
     "data": {
      "text/plain": [
       "<pybamm.plotting.quick_plot.QuickPlot at 0x2b1d5268730>"
      ]
     },
     "execution_count": 14,
     "metadata": {},
     "output_type": "execute_result"
    }
   ],
   "source": [
    "parameter_values = pybamm.ParameterValues(\"Chen2020\")\n",
    "parameter_values[\"Current function [A]\"] = \"[input]\"\n",
    "model = pybamm.lithium_ion.SPM()\n",
    "sim = pybamm.Simulation(model, parameter_values=parameter_values)\n",
    "\n",
    "solutions = []\n",
    "labels = []\n",
    "for i in range(1, 5):\n",
    "    sol = sim.solve([0, 3600], inputs={ \"Current function [A]\": i})\n",
    "    solutions.append(sol)\n",
    "    labels.append(f\"Current = {i} [A]\")\n",
    "pybamm.dynamic_plot(solutions, labels=labels)\n",
    "    \n",
    "\n"
   ]
  },
  {
   "cell_type": "markdown",
   "metadata": {},
   "source": [
    "## Submodels: Plug-and-play physics\n",
    "\n",
    "One of the main features of PyBaMM is its modular structure that allows for plug and play models. At the core, all models in PyBaMM are built as a collection of submodels, where a submodel determines a specific subset of the physics. For example, the particle submodel would specify how lithium is transported in the particles. \n",
    "\n",
    "The full list of submodels can be found in the [PyBaMM docs](https://docs.pybamm.org/en/latest/source/api/models/submodels/index.html). You can check which submodels a given model uses by calling\n"
   ]
  },
  {
   "cell_type": "code",
   "execution_count": 15,
   "metadata": {},
   "outputs": [
    {
     "data": {
      "text/plain": [
       "{'external circuit': <pybamm.models.submodels.external_circuit.explicit_control_external_circuit.ExplicitCurrentControl at 0x2b1d529c040>,\n",
       " 'porosity': <pybamm.models.submodels.porosity.constant_porosity.Constant at 0x2b1d529c0d0>,\n",
       " 'Negative interface utilisation': <pybamm.models.submodels.interface.interface_utilisation.full_utilisation.Full at 0x2b1d529c220>,\n",
       " 'Positive interface utilisation': <pybamm.models.submodels.interface.interface_utilisation.full_utilisation.Full at 0x2b1d529c310>,\n",
       " 'negative particle mechanics': <pybamm.models.submodels.particle_mechanics.no_mechanics.NoMechanics at 0x2b1d529c340>,\n",
       " 'positive particle mechanics': <pybamm.models.submodels.particle_mechanics.no_mechanics.NoMechanics at 0x2b1d529c3a0>,\n",
       " 'negative primary active material': <pybamm.models.submodels.active_material.constant_active_material.Constant at 0x2b1d529c190>,\n",
       " 'positive primary active material': <pybamm.models.submodels.active_material.constant_active_material.Constant at 0x2b1d529c3d0>,\n",
       " 'electrolyte transport efficiency': <pybamm.models.submodels.transport_efficiency.bruggeman_transport_efficiency.Bruggeman at 0x2b1d529c130>,\n",
       " 'electrode transport efficiency': <pybamm.models.submodels.transport_efficiency.bruggeman_transport_efficiency.Bruggeman at 0x2b1d529c400>,\n",
       " 'transverse convection': <pybamm.models.submodels.convection.transverse.no_convection.NoConvection at 0x2b1d529c430>,\n",
       " 'through-cell convection': <pybamm.models.submodels.convection.through_cell.no_convection.NoConvection at 0x2b1d529c370>,\n",
       " 'negative primary open-circuit potential': <pybamm.models.submodels.interface.open_circuit_potential.single_ocp.SingleOpenCircuitPotential at 0x2b1d529c4f0>,\n",
       " 'positive primary open-circuit potential': <pybamm.models.submodels.interface.open_circuit_potential.single_ocp.SingleOpenCircuitPotential at 0x2b1d529c490>,\n",
       " 'negative interface': <pybamm.models.submodels.interface.kinetics.inverse_kinetics.inverse_butler_volmer.InverseButlerVolmer at 0x2b1d529c460>,\n",
       " 'negative interface current': <pybamm.models.submodels.interface.kinetics.inverse_kinetics.inverse_butler_volmer.CurrentForInverseButlerVolmer at 0x2b1d529c580>,\n",
       " 'positive interface': <pybamm.models.submodels.interface.kinetics.inverse_kinetics.inverse_butler_volmer.InverseButlerVolmer at 0x2b1d529c5b0>,\n",
       " 'positive interface current': <pybamm.models.submodels.interface.kinetics.inverse_kinetics.inverse_butler_volmer.CurrentForInverseButlerVolmer at 0x2b1d529c550>,\n",
       " 'negative primary particle': <pybamm.models.submodels.particle.fickian_diffusion.FickianDiffusion at 0x2b1d529c5e0>,\n",
       " 'negative primary total particle concentration': <pybamm.models.submodels.particle.total_particle_concentration.TotalConcentration at 0x2b1d529c610>,\n",
       " 'positive primary particle': <pybamm.models.submodels.particle.fickian_diffusion.FickianDiffusion at 0x2b1d529c4c0>,\n",
       " 'positive primary total particle concentration': <pybamm.models.submodels.particle.total_particle_concentration.TotalConcentration at 0x2b1d529c670>,\n",
       " 'negative electrode potential': <pybamm.models.submodels.electrode.ohm.leading_ohm.LeadingOrder at 0x2b1d529c640>,\n",
       " 'positive electrode potential': <pybamm.models.submodels.electrode.ohm.leading_ohm.LeadingOrder at 0x2b1d529c6a0>,\n",
       " 'electrolyte diffusion': <pybamm.models.submodels.electrolyte_diffusion.constant_concentration.ConstantConcentration at 0x2b1d529c520>,\n",
       " 'leading-order electrolyte conductivity': <pybamm.models.submodels.electrolyte_conductivity.leading_order_conductivity.LeadingOrder at 0x2b1d529c6d0>,\n",
       " 'negative surface potential difference': <pybamm.models.submodels.electrolyte_conductivity.surface_potential_form.explicit_surface_form_conductivity.Explicit at 0x2b1d529c730>,\n",
       " 'positive surface potential difference': <pybamm.models.submodels.electrolyte_conductivity.surface_potential_form.explicit_surface_form_conductivity.Explicit at 0x2b1d529c760>,\n",
       " 'thermal': <pybamm.models.submodels.thermal.isothermal.Isothermal at 0x2b1d529c700>,\n",
       " 'current collector': <pybamm.models.submodels.current_collector.homogeneous_current_collector.Uniform at 0x2b1d52cb9d0>,\n",
       " 'primary sei': <pybamm.models.submodels.interface.sei.no_sei.NoSEI at 0x2b1d5282e50>,\n",
       " 'primary sei on cracks': <pybamm.models.submodels.interface.sei.no_sei.NoSEI at 0x2b1d5282280>,\n",
       " 'lithium plating': <pybamm.models.submodels.interface.lithium_plating.no_plating.NoPlating at 0x2b1d5282a00>,\n",
       " 'total interface': <pybamm.models.submodels.interface.total_interfacial_current.TotalInterfacialCurrent at 0x2b1d5282c10>}"
      ]
     },
     "execution_count": 15,
     "metadata": {},
     "output_type": "execute_result"
    }
   ],
   "source": [
    "model.submodels"
   ]
  },
  {
   "cell_type": "markdown",
   "metadata": {},
   "source": [
    "## Thermal models\n",
    "\n",
    "For example, we can consider the thermal models in PyBaMM. These models account for the changes in the temperature caused by the operation of the battery. The thermal models available in PyBaMM are:\n",
    "\n",
    "* **Isothermal**: temperature stays constant.\n",
    "* **Lumped**: the temperature is taken to be homogeneous in the battery, so only the average temperature is computed.\n",
    "* **X-lumped**: the temperature is taken to be homogeneous across the thickness of the cell, but can vary in the directions parallel to the current collectors. Need to be used in conjunction with a current collector model.\n",
    "* **X-full**: the temperature is allowed to vary across the thickness of the cell.\n",
    "\n",
    "More information on the thermal models can be found in [the documentation](https://docs.pybamm.org/en/latest/source/examples/notebooks/models/thermal-models.html).\n",
    "\n",
    "Below we compare the results of the DFN model with isothermal and x-full. What differences do you observe in the models?"
   ]
  },
  {
   "cell_type": "code",
   "execution_count": 16,
   "metadata": {},
   "outputs": [
    {
     "data": {
      "application/vnd.jupyter.widget-view+json": {
       "model_id": "1642f3aec74c4409926375c6fc506c6e",
       "version_major": 2,
       "version_minor": 0
      },
      "text/plain": [
       "interactive(children=(FloatSlider(value=0.0, description='t', max=1.0, step=0.01), Output()), _dom_classes=('w…"
      ]
     },
     "metadata": {},
     "output_type": "display_data"
    },
    {
     "data": {
      "text/plain": [
       "<pybamm.plotting.quick_plot.QuickPlot at 0x2b1d5022520>"
      ]
     },
     "execution_count": 16,
     "metadata": {},
     "output_type": "execute_result"
    }
   ],
   "source": [
    "thermal_options = [\"isothermal\", \"x-full\"]\n",
    "solutions = []\n",
    "\n",
    "for option in thermal_options:\n",
    "\tmodel = pybamm.lithium_ion.DFN(name=option, options={\"thermal\": option})\n",
    "\tsimulation = pybamm.Simulation(model)\n",
    "\tsolutions.append(simulation.solve([0, 3600]))\n",
    "\n",
    "pybamm.dynamic_plot(\n",
    "    solutions,\n",
    "    output_variables=[\n",
    "        \"Negative particle surface concentration [mol.m-3]\",\n",
    "        \"Electrolyte concentration [mol.m-3]\",\n",
    "        \"Positive particle surface concentration [mol.m-3]\",\n",
    "        \"Negative electrode potential [V]\",\n",
    "        \"Electrolyte potential [V]\",\n",
    "        \"Positive electrode potential [V]\",\n",
    "        \"Current [A]\",\n",
    "        \"Voltage [V]\",\n",
    "        \"Cell temperature [K]\",\n",
    "    ],\n",
    "  )"
   ]
  },
  {
   "cell_type": "markdown",
   "metadata": {},
   "source": [
    "We observe that the temperature in the isothermal model remains constant, while for the x-full model the temperature rises almost 20 K. Despite being a spatial-dependent model, the temperature gradients are negligible, which is reasonable given how thin the cell is. We also observe that the voltage for the isothermal case is lower than for the temperature dependent one, given that at higher temperatures the overpotentials are smaller."
   ]
  },
  {
   "cell_type": "markdown",
   "metadata": {},
   "source": [
    "## Particle mechanics\n",
    "\n",
    "As another example, we consider the models for particle mechanics. These models account for the deformation and cracking on the particles. The models available in PyBaMM are\n",
    "\n",
    "* None: no mechanical effects included.\n",
    "* Swelling only: accounts for the deformation of the particles in the lithiation-delithiation cycle.\n",
    "* Swelling and cracking: accounts for the swelling and also the crack formation on the particle surface.\n",
    "\n",
    "Here we run the DFN model with swelling in the negative electrode and swelling and cracking in the positive electrode. Plot the relevant variables, and recall that you can find the list of variables to plot by typing `model.variable_names()`. What do you observe in the model?\n"
   ]
  },
  {
   "cell_type": "code",
   "execution_count": 17,
   "metadata": {},
   "outputs": [
    {
     "data": {
      "application/vnd.jupyter.widget-view+json": {
       "model_id": "464dcea9f0e64d468538822780e61b8d",
       "version_major": 2,
       "version_minor": 0
      },
      "text/plain": [
       "interactive(children=(FloatSlider(value=0.0, description='t', max=1.0, step=0.01), Output()), _dom_classes=('w…"
      ]
     },
     "metadata": {},
     "output_type": "display_data"
    },
    {
     "data": {
      "text/plain": [
       "<pybamm.plotting.quick_plot.QuickPlot at 0x2b1d95187c0>"
      ]
     },
     "execution_count": 17,
     "metadata": {},
     "output_type": "execute_result"
    }
   ],
   "source": [
    "model = pybamm.lithium_ion.DFN(\n",
    "    options={\"particle mechanics\": (\"swelling only\", \"swelling and cracking\")}\n",
    ")\n",
    "parameter_values = pybamm.ParameterValues(\"Ai2020\")\n",
    "simulation = pybamm.Simulation(model, parameter_values=parameter_values)\n",
    "solution = simulation.solve([0, 3600])\n",
    "\n",
    "solution.plot([\n",
    "    \"Negative particle surface radial stress [Pa]\",\n",
    "    \"Negative particle surface tangential stress [Pa]\",\n",
    "    \"Negative particle surface displacement [m]\",\n",
    "\t\"Negative particle crack length [m]\",\n",
    "    \"Positive particle surface radial stress [Pa]\",\n",
    "    \"Positive particle surface tangential stress [Pa]\",\n",
    "    \"Positive particle surface displacement [m]\",\n",
    "    \"Positive particle crack length [m]\",\n",
    "])"
   ]
  },
  {
   "cell_type": "markdown",
   "metadata": {},
   "source": [
    "A few key observations are that the surface radial stress is always zero. As expected, there is no cracking in the negative electrode (we did not enable that option) but there is cracking in the positive one. "
   ]
  }
 ],
 "metadata": {
  "kernelspec": {
   "display_name": "env",
   "language": "python",
   "name": "python3"
  },
  "language_info": {
   "codemirror_mode": {
    "name": "ipython",
    "version": 3
   },
   "file_extension": ".py",
   "mimetype": "text/x-python",
   "name": "python",
   "nbconvert_exporter": "python",
   "pygments_lexer": "ipython3",
   "version": "3.9.13"
  },
  "orig_nbformat": 4
 },
 "nbformat": 4,
 "nbformat_minor": 2
}
